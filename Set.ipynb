{
  "nbformat": 4,
  "nbformat_minor": 0,
  "metadata": {
    "colab": {
      "provenance": [],
      "authorship_tag": "ABX9TyPRtnEWn5XsfxPrMoaJ8EWp",
      "include_colab_link": true
    },
    "kernelspec": {
      "name": "python3",
      "display_name": "Python 3"
    },
    "language_info": {
      "name": "python"
    }
  },
  "cells": [
    {
      "cell_type": "markdown",
      "metadata": {
        "id": "view-in-github",
        "colab_type": "text"
      },
      "source": [
        "<a href=\"https://colab.research.google.com/github/laaaaaayq/sample/blob/main/Set.ipynb\" target=\"_parent\"><img src=\"https://colab.research.google.com/assets/colab-badge.svg\" alt=\"Open In Colab\"/></a>"
      ]
    },
    {
      "cell_type": "markdown",
      "source": [
        "\n",
        "Write a Python program to remove the intersection of a 2nd set from the 1st set."
      ],
      "metadata": {
        "id": "2H2dSOggEaKN"
      }
    },
    {
      "cell_type": "code",
      "execution_count": null,
      "metadata": {
        "colab": {
          "base_uri": "https://localhost:8080/"
        },
        "id": "ALFAMe_wETkq",
        "outputId": "45623ebb-94b3-40fb-e925-9f9be0972f3e"
      },
      "outputs": [
        {
          "output_type": "stream",
          "name": "stdout",
          "text": [
            "{46, 23} {75, 54, 'name'}\n"
          ]
        }
      ],
      "source": [
        "set1={23,46,'name'}\n",
        "set2={'name',54,75}\n",
        "print(set1-set2,set2)"
      ]
    },
    {
      "cell_type": "markdown",
      "source": [
        "\n",
        "Write a Python program to remove an item from a set if it is present in the set."
      ],
      "metadata": {
        "id": "a1F5FrkbGejA"
      }
    },
    {
      "cell_type": "code",
      "source": [
        "set3=set(input(\"Enter the set :\"))\n",
        "set4=set(input(\"Enter the element you want to remove :\"))\n",
        "print(set3-set4)"
      ],
      "metadata": {
        "colab": {
          "base_uri": "https://localhost:8080/"
        },
        "id": "1M5ZEHObGo8g",
        "outputId": "e7fe14af-4ac3-49fa-c67a-aec12720eeb4"
      },
      "execution_count": null,
      "outputs": [
        {
          "output_type": "stream",
          "name": "stdout",
          "text": [
            "Enter the set :2,4,5,7\n",
            "Enter the element you want to remove :4\n",
            "{'2', '7', '5', ','}\n"
          ]
        }
      ]
    },
    {
      "cell_type": "markdown",
      "source": [
        "\n",
        "Write a Python program to create an intersection of sets."
      ],
      "metadata": {
        "id": "jPQwjAQjHedn"
      }
    },
    {
      "cell_type": "code",
      "source": [
        "set5={'india','pakistan','china'}\n",
        "set6={'india'}\n",
        "print(set5&set6)"
      ],
      "metadata": {
        "colab": {
          "base_uri": "https://localhost:8080/"
        },
        "id": "bMlNl_qoHmwX",
        "outputId": "4705f991-b384-4ec0-dee6-e9b2ad002262"
      },
      "execution_count": null,
      "outputs": [
        {
          "output_type": "stream",
          "name": "stdout",
          "text": [
            "{'india'}\n"
          ]
        }
      ]
    },
    {
      "cell_type": "markdown",
      "source": [
        "Write a Python program to remove item(s) from a given set."
      ],
      "metadata": {
        "id": "-egz-l08IDKw"
      }
    },
    {
      "cell_type": "code",
      "source": [
        "set5.remove('india')\n",
        "print(set5)"
      ],
      "metadata": {
        "colab": {
          "base_uri": "https://localhost:8080/"
        },
        "id": "TvhI7dFZIMLd",
        "outputId": "2f97c601-0d8f-44e9-97f5-b4d763212df3"
      },
      "execution_count": null,
      "outputs": [
        {
          "output_type": "stream",
          "name": "stdout",
          "text": [
            "{'china', 'pakistan'}\n"
          ]
        }
      ]
    },
    {
      "cell_type": "markdown",
      "source": [
        "Write a Python program to create a union of sets."
      ],
      "metadata": {
        "id": "JK8rA4fRIw6M"
      }
    },
    {
      "cell_type": "code",
      "source": [
        "set8={1,2,3,4}\n",
        "set9={2,4,6,8}\n",
        "print(set8 | set9)"
      ],
      "metadata": {
        "id": "nn72ht0xJB4N",
        "outputId": "e33c2e8c-5b7a-4d75-e599-05ab440da331",
        "colab": {
          "base_uri": "https://localhost:8080/"
        }
      },
      "execution_count": null,
      "outputs": [
        {
          "output_type": "stream",
          "name": "stdout",
          "text": [
            "{1, 2, 3, 4, 6, 8}\n"
          ]
        }
      ]
    }
  ]
}