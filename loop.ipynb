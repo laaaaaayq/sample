{
  "nbformat": 4,
  "nbformat_minor": 0,
  "metadata": {
    "colab": {
      "provenance": [],
      "authorship_tag": "ABX9TyPgsR2+O8/m8ephz4T52bff",
      "include_colab_link": true
    },
    "kernelspec": {
      "name": "python3",
      "display_name": "Python 3"
    },
    "language_info": {
      "name": "python"
    }
  },
  "cells": [
    {
      "cell_type": "markdown",
      "metadata": {
        "id": "view-in-github",
        "colab_type": "text"
      },
      "source": [
        "<a href=\"https://colab.research.google.com/github/laaaaaayq/sample/blob/main/loop.ipynb\" target=\"_parent\"><img src=\"https://colab.research.google.com/assets/colab-badge.svg\" alt=\"Open In Colab\"/></a>"
      ]
    },
    {
      "cell_type": "markdown",
      "source": [
        "\n",
        "1.How do you create a for loop that prints the numbers 1 to 10?"
      ],
      "metadata": {
        "id": "3RudPe1SASy7"
      }
    },
    {
      "cell_type": "code",
      "execution_count": null,
      "metadata": {
        "colab": {
          "base_uri": "https://localhost:8080/"
        },
        "id": "GQH6FPCMARmR",
        "outputId": "e6d6eeb8-9f41-403d-ab93-ce5dbf833bc1"
      },
      "outputs": [
        {
          "output_type": "stream",
          "name": "stdout",
          "text": [
            "1\n",
            "2\n",
            "3\n",
            "4\n",
            "5\n",
            "6\n",
            "7\n",
            "8\n",
            "9\n",
            "10\n"
          ]
        }
      ],
      "source": [
        "for num in range(1,11):\n",
        "  print(num)"
      ]
    },
    {
      "cell_type": "markdown",
      "source": [
        "2.How do you create a for loop that iterates over a list and prints each item?"
      ],
      "metadata": {
        "id": "wyEDbnFIB02i"
      }
    },
    {
      "cell_type": "code",
      "source": [
        "list1=['apple','mango','banana']\n",
        "for a in list1:\n",
        " print(a)"
      ],
      "metadata": {
        "colab": {
          "base_uri": "https://localhost:8080/"
        },
        "id": "0v97UADjB3Fz",
        "outputId": "a6836848-26ba-4214-d5b8-2bbd285f3d16"
      },
      "execution_count": null,
      "outputs": [
        {
          "output_type": "stream",
          "name": "stdout",
          "text": [
            "apple\n",
            "mango\n",
            "banana\n"
          ]
        }
      ]
    },
    {
      "cell_type": "markdown",
      "source": [
        "3.How do you create a for loop that calculates the sum of the numbers in a list?"
      ],
      "metadata": {
        "id": "6ZwxsEOeCVKI"
      }
    },
    {
      "cell_type": "code",
      "source": [
        "list2=[2,4,6,7,23]\n",
        "sum=0\n",
        "for i in list2:\n",
        "  sum=sum+i\n",
        "print(\"Sum of the numbers is\",sum)"
      ],
      "metadata": {
        "colab": {
          "base_uri": "https://localhost:8080/"
        },
        "id": "_pIGaypOCqwM",
        "outputId": "b24cc526-643b-4633-dcfd-0ea2b2348575"
      },
      "execution_count": null,
      "outputs": [
        {
          "output_type": "stream",
          "name": "stdout",
          "text": [
            "Sum of the numbers is 42\n"
          ]
        }
      ]
    },
    {
      "cell_type": "markdown",
      "source": [
        "4.How do you create a for loop that prints the even numbers from 1 to 10?"
      ],
      "metadata": {
        "id": "HgEyQYduDmng"
      }
    },
    {
      "cell_type": "code",
      "source": [
        "for i in range(2,11,2):\n",
        " print(i)"
      ],
      "metadata": {
        "colab": {
          "base_uri": "https://localhost:8080/"
        },
        "id": "auDQJV4zDyUp",
        "outputId": "01b1138c-8d7b-4bf3-f1c0-eb58b761a7b7"
      },
      "execution_count": null,
      "outputs": [
        {
          "output_type": "stream",
          "name": "stdout",
          "text": [
            "2\n",
            "4\n",
            "6\n",
            "8\n",
            "10\n"
          ]
        }
      ]
    },
    {
      "cell_type": "markdown",
      "source": [
        "5.How do you create a for loop that prints a multiplication table for a given number?"
      ],
      "metadata": {
        "id": "bSFC6uz_EcoR"
      }
    },
    {
      "cell_type": "code",
      "source": [
        "no=int(input(\"Enter the number : \"))\n",
        "for i in range(1,11):\n",
        " print(no,\"*\", i, \"=\", no*i)"
      ],
      "metadata": {
        "colab": {
          "base_uri": "https://localhost:8080/"
        },
        "id": "z18wu4HfEj1m",
        "outputId": "42027c66-8c6a-45fe-c366-2905a125e9ed"
      },
      "execution_count": null,
      "outputs": [
        {
          "output_type": "stream",
          "name": "stdout",
          "text": [
            "Enter the number : 4\n",
            "4 * 1 = 4\n",
            "4 * 2 = 8\n",
            "4 * 3 = 12\n",
            "4 * 4 = 16\n",
            "4 * 5 = 20\n",
            "4 * 6 = 24\n",
            "4 * 7 = 28\n",
            "4 * 8 = 32\n",
            "4 * 9 = 36\n",
            "4 * 10 = 40\n"
          ]
        }
      ]
    },
    {
      "cell_type": "markdown",
      "source": [
        "7.How do you create a for loop that iterates over a dictionary and prints each key-value pair?"
      ],
      "metadata": {
        "id": "Fe7F6OeKHDq5"
      }
    },
    {
      "cell_type": "code",
      "source": [
        "dict1={'name':'ram','age':17,'place':'ootty'}\n",
        "for key,values in dict1.items():\n",
        " print(key,\":\",values)"
      ],
      "metadata": {
        "colab": {
          "base_uri": "https://localhost:8080/"
        },
        "id": "6QWu5euIHOSs",
        "outputId": "79ceb961-227e-4458-a509-0ff3c0624256"
      },
      "execution_count": 1,
      "outputs": [
        {
          "output_type": "stream",
          "name": "stdout",
          "text": [
            "name : ram\n",
            "age : 17\n",
            "place : ootty\n"
          ]
        }
      ]
    },
    {
      "cell_type": "markdown",
      "source": [
        "8.How do you create a for loop that iterates over a string and prints each character?"
      ],
      "metadata": {
        "id": "Ynq2YpXnLnqM"
      }
    },
    {
      "cell_type": "code",
      "source": [
        "str1=\"Bilshad is bichu\"\n",
        "for i,y in enumerate(str1):\n",
        " print(\"The\",i+1,\"th character is\",y)"
      ],
      "metadata": {
        "colab": {
          "base_uri": "https://localhost:8080/"
        },
        "id": "xnAwQx2OMYjg",
        "outputId": "1f1df711-fee8-4261-8eec-536231172f23"
      },
      "execution_count": null,
      "outputs": [
        {
          "output_type": "stream",
          "name": "stdout",
          "text": [
            "The 1 th character is B\n",
            "The 2 th character is i\n",
            "The 3 th character is l\n",
            "The 4 th character is s\n",
            "The 5 th character is h\n",
            "The 6 th character is a\n",
            "The 7 th character is d\n",
            "The 8 th character is  \n",
            "The 9 th character is i\n",
            "The 10 th character is s\n",
            "The 11 th character is  \n",
            "The 12 th character is b\n",
            "The 13 th character is i\n",
            "The 14 th character is c\n",
            "The 15 th character is h\n",
            "The 16 th character is u\n"
          ]
        }
      ]
    },
    {
      "cell_type": "markdown",
      "source": [
        "9. How do you create a for loop that iterates over a list of strings and prints the length of each string?"
      ],
      "metadata": {
        "id": "m_iWc-6tO95K"
      }
    },
    {
      "cell_type": "code",
      "source": [
        "list2=['none','of','your','business']\n",
        "for j in list2:\n",
        " print(j,len(j))"
      ],
      "metadata": {
        "colab": {
          "base_uri": "https://localhost:8080/"
        },
        "id": "YIPU3bkJPDcT",
        "outputId": "124dea3c-dfc4-43c2-9ea8-98e7ac85c328"
      },
      "execution_count": null,
      "outputs": [
        {
          "output_type": "stream",
          "name": "stdout",
          "text": [
            "none 4\n",
            "of 2\n",
            "your 4\n",
            "business 8\n"
          ]
        }
      ]
    },
    {
      "cell_type": "markdown",
      "source": [
        "10.  How do you create a for loop that iterates over a range of numbers and only prints the numbers that are divisible by 3?"
      ],
      "metadata": {
        "id": "TpzBhrcnPENN"
      }
    },
    {
      "cell_type": "code",
      "source": [
        "for i in range(1,31):\n",
        " if(i%3==0):\n",
        "   print(i)"
      ],
      "metadata": {
        "colab": {
          "base_uri": "https://localhost:8080/"
        },
        "id": "ZrtKTYJ4Sfz_",
        "outputId": "aa43761c-e6b9-4b6c-d60f-b6c12d837632"
      },
      "execution_count": null,
      "outputs": [
        {
          "output_type": "stream",
          "name": "stdout",
          "text": [
            "3\n",
            "6\n",
            "9\n",
            "12\n",
            "15\n",
            "18\n",
            "21\n",
            "24\n",
            "27\n",
            "30\n"
          ]
        }
      ]
    }
  ]
}