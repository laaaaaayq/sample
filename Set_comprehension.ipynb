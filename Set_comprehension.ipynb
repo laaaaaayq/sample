{
  "nbformat": 4,
  "nbformat_minor": 0,
  "metadata": {
    "colab": {
      "provenance": [],
      "authorship_tag": "ABX9TyMwZRYZsTIh+9hkjDDX/98U",
      "include_colab_link": true
    },
    "kernelspec": {
      "name": "python3",
      "display_name": "Python 3"
    },
    "language_info": {
      "name": "python"
    }
  },
  "cells": [
    {
      "cell_type": "markdown",
      "metadata": {
        "id": "view-in-github",
        "colab_type": "text"
      },
      "source": [
        "<a href=\"https://colab.research.google.com/github/laaaaaayq/sample/blob/main/Set_comprehension.ipynb\" target=\"_parent\"><img src=\"https://colab.research.google.com/assets/colab-badge.svg\" alt=\"Open In Colab\"/></a>"
      ]
    },
    {
      "cell_type": "markdown",
      "source": [
        "1.How do you create a set comprehension in Python?"
      ],
      "metadata": {
        "id": "Pa--DSnL5GJD"
      }
    },
    {
      "cell_type": "code",
      "execution_count": null,
      "metadata": {
        "colab": {
          "base_uri": "https://localhost:8080/"
        },
        "id": "fxHwplQK5BDU",
        "outputId": "548b8de3-a8db-4885-9794-3f4f56264552"
      },
      "outputs": [
        {
          "output_type": "stream",
          "name": "stdout",
          "text": [
            "{3, 23, 7, 47}\n"
          ]
        }
      ],
      "source": [
        "a=[3,47,23,None,None,7]\n",
        "b={i for i in a if i is not None}\n",
        "print(b)"
      ]
    },
    {
      "cell_type": "markdown",
      "source": [
        "2.Can you include a condition in a set comprehension?"
      ],
      "metadata": {
        "id": "4pbASksN6r-K"
      }
    },
    {
      "cell_type": "code",
      "source": [
        "c=[1,2,3,4,5,6,7,8]\n",
        "d={i for i in c if i%2==0}\n",
        "print(d)"
      ],
      "metadata": {
        "colab": {
          "base_uri": "https://localhost:8080/"
        },
        "id": "J5YgKWpJ6zXD",
        "outputId": "07014229-9949-4869-a925-b6facbe34d97"
      },
      "execution_count": null,
      "outputs": [
        {
          "output_type": "stream",
          "name": "stdout",
          "text": [
            "{8, 2, 4, 6}\n"
          ]
        }
      ]
    },
    {
      "cell_type": "markdown",
      "source": [
        "3.Can you use a set comprehension to modify an existing set?"
      ],
      "metadata": {
        "id": "zxX7HtUK7Gsr"
      }
    },
    {
      "cell_type": "code",
      "source": [
        "f={i**2 for i in c}\n",
        "print(f)"
      ],
      "metadata": {
        "id": "ZGR0BqJ68z5F",
        "colab": {
          "base_uri": "https://localhost:8080/"
        },
        "outputId": "fec93d4f-94a3-4296-8444-dd5a6ae24111"
      },
      "execution_count": null,
      "outputs": [
        {
          "output_type": "stream",
          "name": "stdout",
          "text": [
            "{64, 1, 4, 36, 100, 9, 16, 49, 25}\n"
          ]
        }
      ]
    }
  ]
}