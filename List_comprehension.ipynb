{
  "nbformat": 4,
  "nbformat_minor": 0,
  "metadata": {
    "colab": {
      "provenance": [],
      "authorship_tag": "ABX9TyM30WBea0zF5u4KUWHMzK18",
      "include_colab_link": true
    },
    "kernelspec": {
      "name": "python3",
      "display_name": "Python 3"
    },
    "language_info": {
      "name": "python"
    }
  },
  "cells": [
    {
      "cell_type": "markdown",
      "metadata": {
        "id": "view-in-github",
        "colab_type": "text"
      },
      "source": [
        "<a href=\"https://colab.research.google.com/github/laaaaaayq/sample/blob/main/List_comprehension.ipynb\" target=\"_parent\"><img src=\"https://colab.research.google.com/assets/colab-badge.svg\" alt=\"Open In Colab\"/></a>"
      ]
    },
    {
      "cell_type": "markdown",
      "source": [
        "1.Write a Python program to remove None value from a given list. (Using list comprehension)\n",
        "\n",
        "\n",
        "Example 1:\n",
        "\n",
        "Input:\n",
        "\n",
        "[12, 0, None, 23, None, -55, 234, 89, None, 0, 6, -12]\n",
        "\n",
        "Output:\n",
        "\n",
        "[12, 0, 23, -55, 234, 89, 0, 6, -12]"
      ],
      "metadata": {
        "id": "C2uLSaG9vMFd"
      }
    },
    {
      "cell_type": "code",
      "source": [
        "list5=[12,0,None,23,None,-55,234,89,None,0,6,-12]\n",
        "a=[i for i in list5 if i is not None]\n",
        "print(a)"
      ],
      "metadata": {
        "colab": {
          "base_uri": "https://localhost:8080/"
        },
        "id": "ovTkPKjf3Yr5",
        "outputId": "be07e194-ae9e-4018-f95e-69e52c87fad8"
      },
      "execution_count": null,
      "outputs": [
        {
          "output_type": "stream",
          "name": "stdout",
          "text": [
            "[12, 0, 23, -55, 234, 89, 0, 6, -12]\n"
          ]
        }
      ]
    },
    {
      "cell_type": "markdown",
      "source": [
        "2.Write a Python program to find the indexes of all None items in a given list.\n",
        "\n",
        "\n",
        "Example 1:\n",
        "\n",
        "Input:\n",
        "\n",
        "[1, None, 5, 4,None, 0, None, None]\n",
        "\n",
        "Output:\n",
        "\n",
        "[1, 4, 6, 7]"
      ],
      "metadata": {
        "id": "Gbuk6Y8z6jnh"
      }
    },
    {
      "cell_type": "code",
      "source": [
        "list3=[1,None,5,4,None,0,None,None]\n",
        "b=[index for index,i in enumerate(list3) if i is None]\n",
        "print(b)"
      ],
      "metadata": {
        "id": "KRkr4uLG6nLs",
        "colab": {
          "base_uri": "https://localhost:8080/"
        },
        "outputId": "1d7d2f96-f3bd-4232-bbac-9139fd3df9fb"
      },
      "execution_count": null,
      "outputs": [
        {
          "output_type": "stream",
          "name": "stdout",
          "text": [
            "[1, 4, 6, 7]\n"
          ]
        }
      ]
    },
    {
      "cell_type": "markdown",
      "source": [
        "3.Write a Python program to remove specific words from a given list. (Using List comprehension)\n",
        "\n",
        "\n",
        "Example 1:\n",
        "\n",
        "Input:\n",
        "\n",
        "['red', 'green', 'blue', 'white', 'black', 'orange']\n",
        "\n",
        "['white', 'orange']\n",
        "\n",
        "Output:\n",
        "\n",
        "['red', 'green', 'blue', 'black']"
      ],
      "metadata": {
        "id": "I_7IhsBTssBJ"
      }
    },
    {
      "cell_type": "code",
      "source": [
        "list4=['red','green','blue','white','black','orange']\n",
        "c=[i for i in list4 if i!='white' and i!='orange']\n",
        "print(c)"
      ],
      "metadata": {
        "colab": {
          "base_uri": "https://localhost:8080/"
        },
        "id": "DviEbXYAsuQU",
        "outputId": "3244cf7a-08f3-4c20-d75a-8bdaafa2fc54"
      },
      "execution_count": null,
      "outputs": [
        {
          "output_type": "stream",
          "name": "stdout",
          "text": [
            "['red', 'green', 'blue', 'black']\n"
          ]
        }
      ]
    },
    {
      "cell_type": "markdown",
      "source": [
        "4.Write a Python program to create a list taking alternate elements from a given list. (Using list comprehension)\n",
        "\n",
        "\n",
        "Example 1:\n",
        "\n",
        "Input:\n",
        "\n",
        "[\"red\", \"black\", \"white\", \"green\", \"orange\"]\n",
        "\n",
        "Output:\n",
        "\n",
        "['red', 'white', 'orange']"
      ],
      "metadata": {
        "id": "JnBD4bcFsu6U"
      }
    },
    {
      "cell_type": "code",
      "source": [
        "list6=[\"red\",\"black\",\"white\",\"green\",\"orange\"]\n",
        "d=[i for index,i in enumerate(list6) if index%2==0]\n",
        "print(d)"
      ],
      "metadata": {
        "colab": {
          "base_uri": "https://localhost:8080/"
        },
        "id": "oZ_giuKVs0VK",
        "outputId": "30a8e930-ff10-4245-a283-9c83bf5daf4b"
      },
      "execution_count": null,
      "outputs": [
        {
          "output_type": "stream",
          "name": "stdout",
          "text": [
            "['red', 'white', 'orange']\n"
          ]
        }
      ]
    },
    {
      "cell_type": "markdown",
      "source": [
        "5.Write a Python program to remove all elements from a given list present in another list. (Using list comprehension)\n",
        "\n",
        "\n",
        "Example 1:\n",
        "\n",
        "Input:\n",
        "\n",
        "[1,2,3,4,5,6,7,8,9,10]\n",
        "\n",
        "[2,4,6,8]\n",
        "\n",
        "Output:\n",
        "\n",
        "[1, 3, 5, 7, 9, 10]"
      ],
      "metadata": {
        "id": "nz0U9IfAs0_m"
      }
    },
    {
      "cell_type": "code",
      "source": [
        "list7=[1,2,3,4,5,6,7,8,9,10]\n",
        "list8=[2,4,6,8]\n",
        "e=[i for i in list7 if i not in list8]\n",
        "print(e)"
      ],
      "metadata": {
        "colab": {
          "base_uri": "https://localhost:8080/"
        },
        "id": "BLaghJ9Ds5KE",
        "outputId": "de82df9b-c48a-485a-83bb-c5fb346db1b6"
      },
      "execution_count": null,
      "outputs": [
        {
          "output_type": "stream",
          "name": "stdout",
          "text": [
            "[1, 3, 5, 7, 9, 10]\n"
          ]
        }
      ]
    }
  ]
}