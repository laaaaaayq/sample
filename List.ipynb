{
  "nbformat": 4,
  "nbformat_minor": 0,
  "metadata": {
    "colab": {
      "provenance": [],
      "authorship_tag": "ABX9TyMw5yDBDWEHUXTv8susf0bV",
      "include_colab_link": true
    },
    "kernelspec": {
      "name": "python3",
      "display_name": "Python 3"
    },
    "language_info": {
      "name": "python"
    }
  },
  "cells": [
    {
      "cell_type": "markdown",
      "metadata": {
        "id": "view-in-github",
        "colab_type": "text"
      },
      "source": [
        "<a href=\"https://colab.research.google.com/github/laaaaaayq/sample/blob/main/List.ipynb\" target=\"_parent\"><img src=\"https://colab.research.google.com/assets/colab-badge.svg\" alt=\"Open In Colab\"/></a>"
      ]
    },
    {
      "cell_type": "markdown",
      "source": [
        "Write a python program to add an element to a list"
      ],
      "metadata": {
        "id": "0CsSqm-7J8hP"
      }
    },
    {
      "cell_type": "code",
      "source": [
        "list=[1,2,3,4,5,1,5,5,'hi']\n",
        "print(list+[10])"
      ],
      "metadata": {
        "colab": {
          "base_uri": "https://localhost:8080/"
        },
        "id": "eM9vT0yHKDvh",
        "outputId": "a5435872-a6f2-4523-f16e-b67c12605cd7"
      },
      "execution_count": null,
      "outputs": [
        {
          "output_type": "stream",
          "name": "stdout",
          "text": [
            "[1, 2, 3, 4, 5, 1, 5, 5, 'hi', 10]\n"
          ]
        }
      ]
    },
    {
      "cell_type": "markdown",
      "source": [
        "\n",
        "Write a Python program to remove an element from a list."
      ],
      "metadata": {
        "id": "8A4_c0CAu4G1"
      }
    },
    {
      "cell_type": "code",
      "source": [
        "list.remove(2)\n",
        "print(list)"
      ],
      "metadata": {
        "colab": {
          "base_uri": "https://localhost:8080/"
        },
        "id": "twvjLjFhu5dY",
        "outputId": "699b3a0c-b344-43f4-aa16-f00904406323"
      },
      "execution_count": null,
      "outputs": [
        {
          "output_type": "stream",
          "name": "stdout",
          "text": [
            "[1, 3, 4, 1, 5, 5, 'hi']\n"
          ]
        }
      ]
    },
    {
      "cell_type": "markdown",
      "source": [
        "Write a Python program to find the index of an element in a list."
      ],
      "metadata": {
        "id": "hmosR_FgwN_9"
      }
    },
    {
      "cell_type": "code",
      "source": [
        "list.index(1)"
      ],
      "metadata": {
        "colab": {
          "base_uri": "https://localhost:8080/"
        },
        "id": "spOEgmfPwPWX",
        "outputId": "cfa81050-2a44-4b2e-bf33-7dad4f8d67d3"
      },
      "execution_count": null,
      "outputs": [
        {
          "output_type": "execute_result",
          "data": {
            "text/plain": [
              "0"
            ]
          },
          "metadata": {},
          "execution_count": 10
        }
      ]
    },
    {
      "cell_type": "markdown",
      "source": [
        "\n",
        "Write a Python program to count the number of occurrences of an element in a list."
      ],
      "metadata": {
        "id": "tL-x2a1twZ0Y"
      }
    },
    {
      "cell_type": "code",
      "source": [
        "list.count(5)"
      ],
      "metadata": {
        "colab": {
          "base_uri": "https://localhost:8080/"
        },
        "id": "fIWxeGoxwpQR",
        "outputId": "26c68a7f-663a-40cd-f72a-cd8a3f8399da"
      },
      "execution_count": null,
      "outputs": [
        {
          "output_type": "execute_result",
          "data": {
            "text/plain": [
              "2"
            ]
          },
          "metadata": {},
          "execution_count": 18
        }
      ]
    },
    {
      "cell_type": "markdown",
      "source": [
        "\n",
        "Write a Python program to sort a list in ascending order."
      ],
      "metadata": {
        "id": "hZaCkdbuw2u_"
      }
    },
    {
      "cell_type": "code",
      "source": [
        "list1=[\"man\",\"Car\",\"Water\",\"tree\"]\n",
        "a=list1.sort()\n",
        "print(list1)"
      ],
      "metadata": {
        "colab": {
          "base_uri": "https://localhost:8080/"
        },
        "id": "D-Du7H7ww4cm",
        "outputId": "253eee94-deff-4106-89ef-577f1002299d"
      },
      "execution_count": null,
      "outputs": [
        {
          "output_type": "stream",
          "name": "stdout",
          "text": [
            "['Car', 'Water', 'man', 'tree']\n"
          ]
        }
      ]
    },
    {
      "cell_type": "markdown",
      "source": [
        "Write a Python program to find the length of a list."
      ],
      "metadata": {
        "id": "uWlp9IcAxgVO"
      }
    },
    {
      "cell_type": "code",
      "source": [
        "print(len(list1))"
      ],
      "metadata": {
        "colab": {
          "base_uri": "https://localhost:8080/"
        },
        "id": "CTzmus0ZxpS-",
        "outputId": "4b770f71-9073-42c2-f4e1-8ec0a1956042"
      },
      "execution_count": null,
      "outputs": [
        {
          "output_type": "stream",
          "name": "stdout",
          "text": [
            "4\n"
          ]
        }
      ]
    },
    {
      "cell_type": "markdown",
      "source": [
        "Write a Python program to copy a list."
      ],
      "metadata": {
        "id": "7NibEhh-x6Y7"
      }
    },
    {
      "cell_type": "code",
      "source": [
        "b=[1,7,['a','b','c'],\"hello\"]\n",
        "c=b.copy()\n",
        "print(\"original list:\",b)\n",
        "print(\"copied list:\",c)"
      ],
      "metadata": {
        "colab": {
          "base_uri": "https://localhost:8080/"
        },
        "id": "2UuPbhQ-yFtz",
        "outputId": "add0b111-4c9e-4ddb-b22f-b2bef7d75721"
      },
      "execution_count": null,
      "outputs": [
        {
          "output_type": "stream",
          "name": "stdout",
          "text": [
            "original list: [1, 7, ['a', 'b', 'c'], 'hello']\n",
            "copied list: [1, 7, ['a', 'b', 'c'], 'hello']\n"
          ]
        }
      ]
    },
    {
      "cell_type": "markdown",
      "source": [
        "Write a Python program to slice a list."
      ],
      "metadata": {
        "id": "Fu3MooBbyxRU"
      }
    },
    {
      "cell_type": "code",
      "source": [
        "print(b[1:3])"
      ],
      "metadata": {
        "colab": {
          "base_uri": "https://localhost:8080/"
        },
        "id": "_kpGKvYBy5pA",
        "outputId": "c1e7bca2-fc1f-414e-d045-a5e9e27f9c10"
      },
      "execution_count": null,
      "outputs": [
        {
          "output_type": "stream",
          "name": "stdout",
          "text": [
            "[7, ['a', 'b', 'c']]\n"
          ]
        }
      ]
    },
    {
      "cell_type": "markdown",
      "source": [
        "Write a Python program to concatenate two lists."
      ],
      "metadata": {
        "id": "kWPKJh0xzEcF"
      }
    },
    {
      "cell_type": "code",
      "source": [
        "x=[2,4,6,8]\n",
        "y=[\"red\",\"green\",\"blue\",[\"colors\"]]\n",
        "z=x+y\n",
        "print(z)"
      ],
      "metadata": {
        "colab": {
          "base_uri": "https://localhost:8080/"
        },
        "id": "MPJkejJozIss",
        "outputId": "6df6ce9e-0de2-416b-ad3a-e677ac81bf39"
      },
      "execution_count": null,
      "outputs": [
        {
          "output_type": "stream",
          "name": "stdout",
          "text": [
            "[2, 4, 6, 8, 'red', 'green', 'blue', ['colors']]\n"
          ]
        }
      ]
    },
    {
      "cell_type": "markdown",
      "source": [
        "Write a Python program to check if an element exists in a list"
      ],
      "metadata": {
        "id": "962fgT7QzlPv"
      }
    },
    {
      "cell_type": "code",
      "source": [
        "list2=[\"red\",\"white\",\"black\",\"blue\"]\n",
        "check=input(\"Enter the value to check : \")\n",
        "if check in list2 :\n",
        "  print(\"The value exists\")\n",
        "else :\n",
        "  print(\"The value doesn't exist\")"
      ],
      "metadata": {
        "colab": {
          "base_uri": "https://localhost:8080/"
        },
        "id": "9jRlUGLTzmNx",
        "outputId": "430c38ef-149a-409a-8043-6c68a230c44e"
      },
      "execution_count": null,
      "outputs": [
        {
          "output_type": "stream",
          "name": "stdout",
          "text": [
            "Enter the value to check : red\n",
            "The value exists\n"
          ]
        }
      ]
    }
  ]
}