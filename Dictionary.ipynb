{
  "nbformat": 4,
  "nbformat_minor": 0,
  "metadata": {
    "colab": {
      "provenance": [],
      "authorship_tag": "ABX9TyP6sE6bSv2TfEQpOzwdEu+G",
      "include_colab_link": true
    },
    "kernelspec": {
      "name": "python3",
      "display_name": "Python 3"
    },
    "language_info": {
      "name": "python"
    }
  },
  "cells": [
    {
      "cell_type": "markdown",
      "metadata": {
        "id": "view-in-github",
        "colab_type": "text"
      },
      "source": [
        "<a href=\"https://colab.research.google.com/github/laaaaaayq/sample/blob/main/Dictionary.ipynb\" target=\"_parent\"><img src=\"https://colab.research.google.com/assets/colab-badge.svg\" alt=\"Open In Colab\"/></a>"
      ]
    },
    {
      "cell_type": "markdown",
      "source": [
        "\n",
        "How do you create a dictionary in Python?"
      ],
      "metadata": {
        "id": "B9wN8Cr_h_Cs"
      }
    },
    {
      "cell_type": "code",
      "execution_count": null,
      "metadata": {
        "id": "BFSPQRIAh8kk",
        "colab": {
          "base_uri": "https://localhost:8080/"
        },
        "outputId": "a67ac851-5717-4f57-e9aa-cfd1c890edbf"
      },
      "outputs": [
        {
          "output_type": "stream",
          "name": "stdout",
          "text": [
            "{'name': 'abu', 'age': 25, 'place': 'calicut'}\n"
          ]
        }
      ],
      "source": [
        "dict1={'name':'abu','age':25,'place':'calicut'}\n",
        "print(dict1)"
      ]
    },
    {
      "cell_type": "markdown",
      "source": [
        "How do you access values in a dictionary?"
      ],
      "metadata": {
        "id": "y8oGLZStjgMN"
      }
    },
    {
      "cell_type": "code",
      "source": [
        "print(dict1['name'])"
      ],
      "metadata": {
        "colab": {
          "base_uri": "https://localhost:8080/"
        },
        "id": "lFRY-zkdjnEo",
        "outputId": "0ba701ba-7e04-425a-e428-e1a29c08a71e"
      },
      "execution_count": null,
      "outputs": [
        {
          "output_type": "stream",
          "name": "stdout",
          "text": [
            "abu\n"
          ]
        }
      ]
    },
    {
      "cell_type": "markdown",
      "source": [
        "How do you add a new key-value pair to a dictionary?"
      ],
      "metadata": {
        "id": "qC5WN1LIjyHc"
      }
    },
    {
      "cell_type": "code",
      "source": [
        "dict1.update({'qualification':'bca'})\n",
        "print(dict1)"
      ],
      "metadata": {
        "colab": {
          "base_uri": "https://localhost:8080/"
        },
        "id": "kHDOyxhwj3AE",
        "outputId": "b0f82689-8fe9-4ead-9176-9fc9e70be97c"
      },
      "execution_count": null,
      "outputs": [
        {
          "output_type": "stream",
          "name": "stdout",
          "text": [
            "{'name': 'biju', 'age': 25, 'place': 'calicut', 'qualification': 'bca'}\n"
          ]
        }
      ]
    },
    {
      "cell_type": "markdown",
      "source": [
        "How do you modify the value of a key in a dictionary?"
      ],
      "metadata": {
        "id": "-hcFcAIvk-Gs"
      }
    },
    {
      "cell_type": "code",
      "source": [
        "dict1.update({'name':'biju'})\n",
        "print(dict1)"
      ],
      "metadata": {
        "colab": {
          "base_uri": "https://localhost:8080/"
        },
        "id": "5JCJUm1Fk-97",
        "outputId": "e3e091a8-b719-4f46-8770-701095da2372"
      },
      "execution_count": null,
      "outputs": [
        {
          "output_type": "stream",
          "name": "stdout",
          "text": [
            "{'name': 'biju', 'age': 25, 'place': 'calicut', 'qualification': 'bca'}\n"
          ]
        }
      ]
    },
    {
      "cell_type": "markdown",
      "source": [
        "How do you remove a key-value pair from a dictionary?"
      ],
      "metadata": {
        "id": "-YF1Le_FlOeq"
      }
    },
    {
      "cell_type": "code",
      "source": [
        "dict1.pop('qualification')"
      ],
      "metadata": {
        "colab": {
          "base_uri": "https://localhost:8080/",
          "height": 35
        },
        "id": "vKB9b4PPlLhB",
        "outputId": "c33508ec-cdab-4ba9-dd14-b83cd733c0bf"
      },
      "execution_count": null,
      "outputs": [
        {
          "output_type": "execute_result",
          "data": {
            "text/plain": [
              "'bca'"
            ],
            "application/vnd.google.colaboratory.intrinsic+json": {
              "type": "string"
            }
          },
          "metadata": {},
          "execution_count": 33
        }
      ]
    },
    {
      "cell_type": "markdown",
      "source": [
        "How do you check if a key exists in a dictionary?"
      ],
      "metadata": {
        "id": "DQBudfqomBSV"
      }
    },
    {
      "cell_type": "code",
      "source": [
        "print('name' in dict1)"
      ],
      "metadata": {
        "colab": {
          "base_uri": "https://localhost:8080/"
        },
        "id": "d6uqXgz9mFD3",
        "outputId": "7fbb69d0-aeeb-4bdc-d516-d206483eeae7"
      },
      "execution_count": null,
      "outputs": [
        {
          "output_type": "stream",
          "name": "stdout",
          "text": [
            "True\n"
          ]
        }
      ]
    },
    {
      "cell_type": "markdown",
      "source": [
        "How do you get the number of key-value pairs in a dictionary?"
      ],
      "metadata": {
        "id": "c1qLPLWLmZVL"
      }
    },
    {
      "cell_type": "code",
      "source": [
        "print(len(dict1))"
      ],
      "metadata": {
        "colab": {
          "base_uri": "https://localhost:8080/"
        },
        "id": "HK07ZE_wmd3X",
        "outputId": "1ca3a3cc-eb21-4915-ec5c-a415b6a5d62e"
      },
      "execution_count": null,
      "outputs": [
        {
          "output_type": "stream",
          "name": "stdout",
          "text": [
            "3\n"
          ]
        }
      ]
    },
    {
      "cell_type": "markdown",
      "source": [
        "How do you create a dictionary from two lists?"
      ],
      "metadata": {
        "id": "BSOinC0noc18"
      }
    },
    {
      "cell_type": "code",
      "source": [
        "list1=['name','age','place']\n",
        "list2=['shibu',65,'munnar']\n",
        "dict2=list(zip(list1,list2))\n",
        "print(dict2)"
      ],
      "metadata": {
        "colab": {
          "base_uri": "https://localhost:8080/"
        },
        "id": "I95_mpXaosAd",
        "outputId": "43c25fa3-710a-4b9d-df69-d6aec256d120"
      },
      "execution_count": null,
      "outputs": [
        {
          "output_type": "stream",
          "name": "stdout",
          "text": [
            "[('name', 'shibu'), ('age', 65), ('place', 'munnar')]\n"
          ]
        }
      ]
    },
    {
      "cell_type": "markdown",
      "source": [
        "How do you get a list of keys or values from a dictionary?"
      ],
      "metadata": {
        "id": "kDKRu5q_pthV"
      }
    },
    {
      "cell_type": "code",
      "source": [
        "x=dict1.values()\n",
        "print(x)"
      ],
      "metadata": {
        "colab": {
          "base_uri": "https://localhost:8080/"
        },
        "id": "is5pKeZlp1Lc",
        "outputId": "fdeafb4f-a737-4aaa-ece2-3d48e326eb74"
      },
      "execution_count": null,
      "outputs": [
        {
          "output_type": "stream",
          "name": "stdout",
          "text": [
            "dict_values(['biju', 25, 'calicut'])\n"
          ]
        }
      ]
    },
    {
      "cell_type": "markdown",
      "source": [
        "How do you merge two dictionaries?"
      ],
      "metadata": {
        "id": "7uNOv8QQqiG_"
      }
    },
    {
      "cell_type": "code",
      "source": [
        "dict3={'india':'chetri','brazil':'neymar'}\n",
        "dict4={'argentina':'messi','portugal':'cristiano'}\n",
        "dict5=dict3 | dict4\n",
        "print(dict5)"
      ],
      "metadata": {
        "colab": {
          "base_uri": "https://localhost:8080/"
        },
        "id": "pJ7kEoKGqoAB",
        "outputId": "04782e30-78bb-4785-e675-558962da39a4"
      },
      "execution_count": null,
      "outputs": [
        {
          "output_type": "stream",
          "name": "stdout",
          "text": [
            "{'india': 'chetri', 'brazil': 'neymar', 'argentina': 'messi', 'portugal': 'cristiano'}\n"
          ]
        }
      ]
    },
    {
      "cell_type": "markdown",
      "source": [
        "How do you sort a dictionary by its keys or values?"
      ],
      "metadata": {
        "id": "OaUZU68LrrBC"
      }
    },
    {
      "cell_type": "code",
      "source": [
        "sorted(dict3.values())"
      ],
      "metadata": {
        "colab": {
          "base_uri": "https://localhost:8080/"
        },
        "id": "ldspmXj5rvYb",
        "outputId": "9da6130a-8b93-4bc0-c128-a1f3edc7b766"
      },
      "execution_count": null,
      "outputs": [
        {
          "output_type": "execute_result",
          "data": {
            "text/plain": [
              "['chetri', 'neymar']"
            ]
          },
          "metadata": {},
          "execution_count": 75
        }
      ]
    },
    {
      "cell_type": "markdown",
      "source": [
        "How do you convert a dictionary to a list?"
      ],
      "metadata": {
        "id": "5-brj8dMsl7V"
      }
    },
    {
      "cell_type": "code",
      "source": [
        "list(dict3)"
      ],
      "metadata": {
        "colab": {
          "base_uri": "https://localhost:8080/"
        },
        "id": "wSLUTYIKss-a",
        "outputId": "d03e4f6f-1c02-4a1d-c370-7ed3f7aa0d79"
      },
      "execution_count": null,
      "outputs": [
        {
          "output_type": "execute_result",
          "data": {
            "text/plain": [
              "['india', 'brazil']"
            ]
          },
          "metadata": {},
          "execution_count": 78
        }
      ]
    }
  ]
}