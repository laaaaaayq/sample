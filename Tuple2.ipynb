{
  "nbformat": 4,
  "nbformat_minor": 0,
  "metadata": {
    "colab": {
      "provenance": [],
      "authorship_tag": "ABX9TyP6vT4i79lbbvWmCNjGtoAe",
      "include_colab_link": true
    },
    "kernelspec": {
      "name": "python3",
      "display_name": "Python 3"
    },
    "language_info": {
      "name": "python"
    }
  },
  "cells": [
    {
      "cell_type": "markdown",
      "metadata": {
        "id": "view-in-github",
        "colab_type": "text"
      },
      "source": [
        "<a href=\"https://colab.research.google.com/github/laaaaaayq/sample/blob/main/Tuple2.ipynb\" target=\"_parent\"><img src=\"https://colab.research.google.com/assets/colab-badge.svg\" alt=\"Open In Colab\"/></a>"
      ]
    },
    {
      "cell_type": "markdown",
      "source": [
        "\n",
        "How do you convert a list to a tuple in Python?"
      ],
      "metadata": {
        "id": "Z31qZi26LMGv"
      }
    },
    {
      "cell_type": "code",
      "execution_count": null,
      "metadata": {
        "id": "OKi2PnXNJ2Yq",
        "colab": {
          "base_uri": "https://localhost:8080/"
        },
        "outputId": "a7493945-d757-480a-faa4-a9de0f94bb9c"
      },
      "outputs": [
        {
          "output_type": "stream",
          "name": "stdout",
          "text": [
            "(1, 2, 3)\n"
          ]
        }
      ],
      "source": [
        "list0=[1,2,3]\n",
        "Tuple1=tuple(list0)\n",
        "print(Tuple1)"
      ]
    },
    {
      "cell_type": "markdown",
      "source": [
        "How to create a tuple from user input in Python?"
      ],
      "metadata": {
        "id": "1_q9lgMVLYq_"
      }
    },
    {
      "cell_type": "code",
      "source": [
        "A=tuple(input(\"Enter the tuple :\"))\n",
        "print(\"user inputed tuple is :\", A)"
      ],
      "metadata": {
        "colab": {
          "base_uri": "https://localhost:8080/"
        },
        "id": "vZAfi2t3LhyV",
        "outputId": "2fe0029a-3269-41f6-fe14-ae0e48c810c8"
      },
      "execution_count": null,
      "outputs": [
        {
          "output_type": "stream",
          "name": "stdout",
          "text": [
            "Enter the tuple :2345\n",
            "user inputed tuple is : ('2', '3', '4', '5')\n"
          ]
        }
      ]
    },
    {
      "cell_type": "markdown",
      "source": [
        "\n",
        "How do you create a tuple with a repeated element in Python? Example: Input: (1) Output: (1,1,1,1,1,1)"
      ],
      "metadata": {
        "id": "_3d5lsmwOd0m"
      }
    },
    {
      "cell_type": "code",
      "source": [
        "tuple_8=tuple(input(\"Enter the tuple : \"))\n",
        "print((tuple_8)*6)"
      ],
      "metadata": {
        "colab": {
          "base_uri": "https://localhost:8080/"
        },
        "id": "B8IhFKJZOieO",
        "outputId": "21d9dbfa-20ed-4b06-aad5-b7568dbc2cfa"
      },
      "execution_count": null,
      "outputs": [
        {
          "output_type": "stream",
          "name": "stdout",
          "text": [
            "Enter the tuple : 2\n",
            "('2', '2', '2', '2', '2', '2')\n"
          ]
        }
      ]
    },
    {
      "cell_type": "markdown",
      "source": [
        "How do you compare two tuples in Python?"
      ],
      "metadata": {
        "id": "RP-a0IIcQfAq"
      }
    },
    {
      "cell_type": "code",
      "source": [
        "my_tuple=(1,3)\n",
        "my_tuple2=2,4}\n",
        "print(my_tuple < my_tuple2)"
      ],
      "metadata": {
        "colab": {
          "base_uri": "https://localhost:8080/"
        },
        "id": "aODqlkfeQgZc",
        "outputId": "3c15caaf-0133-4e39-d508-32d7b432a059"
      },
      "execution_count": null,
      "outputs": [
        {
          "output_type": "stream",
          "name": "stdout",
          "text": [
            "False\n"
          ]
        }
      ]
    }
  ]
}