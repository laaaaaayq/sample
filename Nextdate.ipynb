{
  "nbformat": 4,
  "nbformat_minor": 0,
  "metadata": {
    "colab": {
      "provenance": [],
      "include_colab_link": true
    },
    "kernelspec": {
      "name": "python3",
      "display_name": "Python 3"
    },
    "language_info": {
      "name": "python"
    }
  },
  "cells": [
    {
      "cell_type": "markdown",
      "metadata": {
        "id": "view-in-github",
        "colab_type": "text"
      },
      "source": [
        "<a href=\"https://colab.research.google.com/github/laaaaaayq/sample/blob/main/Nextdate.ipynb\" target=\"_parent\"><img src=\"https://colab.research.google.com/assets/colab-badge.svg\" alt=\"Open In Colab\"/></a>"
      ]
    },
    {
      "cell_type": "code",
      "execution_count": null,
      "metadata": {
        "colab": {
          "base_uri": "https://localhost:8080/"
        },
        "id": "v3_6ddRt-CXd",
        "outputId": "5f814a98-d2e7-4886-fb21-9406b69eeb0b"
      },
      "outputs": [
        {
          "output_type": "stream",
          "name": "stdout",
          "text": [
            "Enter a year : 2004\n",
            "Enter a month(1-12) : 2\n",
            "Enter a day (1-31) : 29\n",
            "The next day's date [yyyy-mm-dd] 2004-3-1.\n"
          ]
        }
      ],
      "source": [
        "year=int(input(\"Enter a year : \"))\n",
        "if(year%400==0):\n",
        " leap_year=True\n",
        "elif(year%100==0):\n",
        " leap_year=False\n",
        "elif(year%4==0):\n",
        " leap_year=True\n",
        "else:\n",
        " leap_year=False\n",
        "month=int(input(\"Enter a month(1-12) : \"))\n",
        "if month in(1,3,5,7,8,10,12):\n",
        " month_length=31\n",
        "elif(month==2):\n",
        "  if(leap_year==True):\n",
        "   month_length=29\n",
        "  else:\n",
        "   month_length=28\n",
        "else:\n",
        " month_length=30\n",
        "day=int(input(\"Enter a day (1-31) : \"))\n",
        "if(day<month_length):\n",
        " day+=1\n",
        "else:\n",
        " day=1\n",
        " if month==12:\n",
        "   month=1\n",
        "   year+=1\n",
        " else:\n",
        "   month+=1\n",
        "print(\"The next day's date [yyyy-mm-dd] %d-%d-%d.\"%(year,month,day))"
      ]
    }
  ]
}