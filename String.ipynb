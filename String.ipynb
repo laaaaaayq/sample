{
  "nbformat": 4,
  "nbformat_minor": 0,
  "metadata": {
    "colab": {
      "provenance": [],
      "authorship_tag": "ABX9TyNxszC/YxdvKY/iv9XteZ0B",
      "include_colab_link": true
    },
    "kernelspec": {
      "name": "python3",
      "display_name": "Python 3"
    },
    "language_info": {
      "name": "python"
    }
  },
  "cells": [
    {
      "cell_type": "markdown",
      "metadata": {
        "id": "view-in-github",
        "colab_type": "text"
      },
      "source": [
        "<a href=\"https://colab.research.google.com/github/laaaaaayq/sample/blob/main/String.ipynb\" target=\"_parent\"><img src=\"https://colab.research.google.com/assets/colab-badge.svg\" alt=\"Open In Colab\"/></a>"
      ]
    },
    {
      "cell_type": "code",
      "execution_count": null,
      "metadata": {
        "colab": {
          "base_uri": "https://localhost:8080/"
        },
        "id": "qv1vCVFnfwK0",
        "outputId": "f9a4efb5-e84b-471d-b10b-9f9a0b31785d"
      },
      "outputs": [
        {
          "output_type": "stream",
          "name": "stdout",
          "text": [
            "hello\n"
          ]
        }
      ],
      "source": [
        "print('hello')"
      ]
    },
    {
      "cell_type": "code",
      "source": [
        "A=23\n",
        "B=11\n",
        "A/B"
      ],
      "metadata": {
        "id": "ixQaiFwkhyVM",
        "colab": {
          "base_uri": "https://localhost:8080/"
        },
        "outputId": "1a3858c3-f232-485d-d577-d05829b5e5aa"
      },
      "execution_count": null,
      "outputs": [
        {
          "output_type": "execute_result",
          "data": {
            "text/plain": [
              "2.090909090909091"
            ]
          },
          "metadata": {},
          "execution_count": 7
        }
      ]
    },
    {
      "cell_type": "code",
      "source": [
        "A%B"
      ],
      "metadata": {
        "colab": {
          "base_uri": "https://localhost:8080/"
        },
        "id": "xnoxlLJ2iGan",
        "outputId": "768ec4e7-98f0-43e2-b745-7888ed5e817f"
      },
      "execution_count": null,
      "outputs": [
        {
          "output_type": "execute_result",
          "data": {
            "text/plain": [
              "1"
            ]
          },
          "metadata": {},
          "execution_count": 8
        }
      ]
    },
    {
      "cell_type": "code",
      "source": [
        "print(max(A,B))"
      ],
      "metadata": {
        "id": "809cMUhPiOam",
        "colab": {
          "base_uri": "https://localhost:8080/"
        },
        "outputId": "162ed30a-edd6-4a57-f560-df57c94014bc"
      },
      "execution_count": null,
      "outputs": [
        {
          "output_type": "stream",
          "name": "stdout",
          "text": [
            "11\n"
          ]
        }
      ]
    },
    {
      "cell_type": "code",
      "source": [
        "A//B"
      ],
      "metadata": {
        "colab": {
          "base_uri": "https://localhost:8080/"
        },
        "id": "WUiJr61Dix6U",
        "outputId": "fb01eed2-aae2-425b-8d05-aebd539d183e"
      },
      "execution_count": null,
      "outputs": [
        {
          "output_type": "execute_result",
          "data": {
            "text/plain": [
              "2"
            ]
          },
          "metadata": {},
          "execution_count": 9
        }
      ]
    },
    {
      "cell_type": "code",
      "source": [
        "X=int(input())\n",
        "Y=int(input())\n",
        "print((X+Y) *(X+Y))"
      ],
      "metadata": {
        "colab": {
          "base_uri": "https://localhost:8080/"
        },
        "id": "a1K_6wFBjBx0",
        "outputId": "033a99c0-8baf-4dc8-e20f-6f4ff608f20b"
      },
      "execution_count": null,
      "outputs": [
        {
          "output_type": "stream",
          "name": "stdout",
          "text": [
            "4\n",
            "3\n",
            "49\n"
          ]
        }
      ]
    },
    {
      "cell_type": "code",
      "source": [
        "print(A,B)\n",
        "temp=A\n",
        "A=B\n",
        "B=temp\n",
        "print(A,B)"
      ],
      "metadata": {
        "colab": {
          "base_uri": "https://localhost:8080/"
        },
        "id": "5J1QvPNIjjdM",
        "outputId": "2b96dfa7-f56b-42d9-c031-1a7ef93ee56d"
      },
      "execution_count": null,
      "outputs": [
        {
          "output_type": "stream",
          "name": "stdout",
          "text": [
            "5 11\n",
            "11 5\n"
          ]
        }
      ]
    },
    {
      "cell_type": "code",
      "source": [
        "F=float(input())\n",
        "G=float(input())\n",
        "print(round((G/(F*F)) ,2))"
      ],
      "metadata": {
        "colab": {
          "base_uri": "https://localhost:8080/"
        },
        "id": "cJa96MGklDB2",
        "outputId": "47880a0b-0847-4526-fced-54fdde1ca50a"
      },
      "execution_count": null,
      "outputs": [
        {
          "output_type": "stream",
          "name": "stdout",
          "text": [
            "6\n",
            "65\n",
            "1.81\n"
          ]
        }
      ]
    },
    {
      "cell_type": "markdown",
      "source": [
        "Concatenate 2 strings"
      ],
      "metadata": {
        "id": "oUD24F3AtMv5"
      }
    },
    {
      "cell_type": "code",
      "source": [
        "a='hello'\n",
        "b=' good morning'\n",
        "print(a+b)"
      ],
      "metadata": {
        "id": "qyWzoRbMrdHz",
        "colab": {
          "base_uri": "https://localhost:8080/"
        },
        "outputId": "c9331f8b-3567-434d-8d4b-7494e0cbbe2e"
      },
      "execution_count": null,
      "outputs": [
        {
          "output_type": "stream",
          "name": "stdout",
          "text": [
            "hello good morning\n"
          ]
        }
      ]
    },
    {
      "cell_type": "markdown",
      "source": [
        "Find length of a string in python"
      ],
      "metadata": {
        "id": "IdHGY57NtdBP"
      }
    },
    {
      "cell_type": "code",
      "source": [
        "len(a)"
      ],
      "metadata": {
        "colab": {
          "base_uri": "https://localhost:8080/"
        },
        "id": "NtqLomzYtjSm",
        "outputId": "b056aac1-6d23-41f7-a9fb-13ddb37d9d68"
      },
      "execution_count": null,
      "outputs": [
        {
          "output_type": "execute_result",
          "data": {
            "text/plain": [
              "5"
            ]
          },
          "metadata": {},
          "execution_count": 4
        }
      ]
    },
    {
      "cell_type": "markdown",
      "source": [
        "Check if a substring is present in a string"
      ],
      "metadata": {
        "id": "QswCloHsuSep"
      }
    },
    {
      "cell_type": "code",
      "source": [
        "'good' in b"
      ],
      "metadata": {
        "colab": {
          "base_uri": "https://localhost:8080/"
        },
        "id": "05z1sXrbuhlD",
        "outputId": "e0ba2506-571a-49f9-f681-17f858d748e9"
      },
      "execution_count": null,
      "outputs": [
        {
          "output_type": "execute_result",
          "data": {
            "text/plain": [
              "True"
            ]
          },
          "metadata": {},
          "execution_count": 5
        }
      ]
    },
    {
      "cell_type": "markdown",
      "source": [
        "\n",
        "replace a substring in a string with another string in Python"
      ],
      "metadata": {
        "id": "NYu1W5Zvupcg"
      }
    },
    {
      "cell_type": "code",
      "source": [
        "a.replace('e','o')"
      ],
      "metadata": {
        "colab": {
          "base_uri": "https://localhost:8080/",
          "height": 35
        },
        "id": "Hv_MPDWJu1eD",
        "outputId": "33c49de9-028d-48c9-e734-85b8dc4b98eb"
      },
      "execution_count": null,
      "outputs": [
        {
          "output_type": "execute_result",
          "data": {
            "text/plain": [
              "'hollo'"
            ],
            "application/vnd.google.colaboratory.intrinsic+json": {
              "type": "string"
            }
          },
          "metadata": {},
          "execution_count": 10
        }
      ]
    },
    {
      "cell_type": "markdown",
      "source": [
        "\n",
        "Write a Python program to get a single string from two given strings, separated by a space and swap the first two characters of each string."
      ],
      "metadata": {
        "id": "KQvlGgsTvzsE"
      }
    },
    {
      "cell_type": "code",
      "source": [
        "c='hello'\n",
        "d='there'\n",
        "f=(c[:2]+d[2:])\n",
        "e=(d[:2]+c[2:])\n",
        "print(e+' '+f)"
      ],
      "metadata": {
        "colab": {
          "base_uri": "https://localhost:8080/"
        },
        "id": "tmaSkOYcwMLK",
        "outputId": "f5c377f1-9bcd-4d8f-f875-e8c66c693f35"
      },
      "execution_count": null,
      "outputs": [
        {
          "output_type": "stream",
          "name": "stdout",
          "text": [
            "thllo heere\n"
          ]
        }
      ]
    },
    {
      "cell_type": "markdown",
      "source": [
        "\n",
        "Write a Python program to remove the nth index character from a nonempty string."
      ],
      "metadata": {
        "id": "2_0CmjpA7m6c"
      }
    },
    {
      "cell_type": "code",
      "source": [
        "w=input(\"enter the string\")\n",
        "nn=int(input(\"enter the index\"))\n",
        "ww=w[:nn]\n",
        "www=w[nn+1:]\n",
        "print(ww+www)"
      ],
      "metadata": {
        "id": "TwOFYY4Q7zvQ"
      },
      "execution_count": null,
      "outputs": []
    },
    {
      "cell_type": "markdown",
      "source": [
        "\n",
        "Write a Python program to change a given string to a new string where the first and last chars have been exchanged."
      ],
      "metadata": {
        "id": "4CwGi0ne8_dw"
      }
    },
    {
      "cell_type": "code",
      "source": [
        "g=c[-1]+c[1:-1]+c[0]\n",
        "print(g)"
      ],
      "metadata": {
        "colab": {
          "base_uri": "https://localhost:8080/"
        },
        "id": "3JpcFjln9KPU",
        "outputId": "a86115a7-b0f0-4443-a21b-a0e7da59215b"
      },
      "execution_count": null,
      "outputs": [
        {
          "output_type": "stream",
          "name": "stdout",
          "text": [
            "oellh\n"
          ]
        }
      ]
    },
    {
      "cell_type": "markdown",
      "source": [
        "\n",
        "Write a Python script that takes input from the user and displays that input back in upper and lower cases."
      ],
      "metadata": {
        "id": "49u-22VVp3A8"
      }
    },
    {
      "cell_type": "code",
      "source": [
        "str=input()\n",
        "print(str.upper())\n",
        "print(str.lower())"
      ],
      "metadata": {
        "colab": {
          "base_uri": "https://localhost:8080/"
        },
        "id": "crEIaRDep7ld",
        "outputId": "9683a0c6-b603-4fbc-8bf7-83fa8718c675"
      },
      "execution_count": null,
      "outputs": [
        {
          "output_type": "stream",
          "name": "stdout",
          "text": [
            "Hello\n",
            "HELLO\n",
            "hello\n"
          ]
        }
      ]
    },
    {
      "cell_type": "markdown",
      "source": [
        "Write a Python function to get a string made of 4 copies of the last two characters of a specified string (length must be at least 2)."
      ],
      "metadata": {
        "id": "TQTgkM5aqjeK"
      }
    },
    {
      "cell_type": "code",
      "source": [
        "str1=input()\n",
        "print(str1[-2:]*4)"
      ],
      "metadata": {
        "colab": {
          "base_uri": "https://localhost:8080/"
        },
        "id": "KdQ6VxaNqlbj",
        "outputId": "a7f02746-ae42-423a-901f-b8e5f95c0ffe"
      },
      "execution_count": null,
      "outputs": [
        {
          "output_type": "stream",
          "name": "stdout",
          "text": [
            "Python\n",
            "onononon\n"
          ]
        }
      ]
    },
    {
      "cell_type": "markdown",
      "source": [
        "Join a list of strings into a single string in Python"
      ],
      "metadata": {
        "id": "y8GQSWrOrBTw"
      }
    },
    {
      "cell_type": "code",
      "source": [
        "list_of_string=[\"hi\",\"there\"]\n",
        "''.join(list_of_string)"
      ],
      "metadata": {
        "colab": {
          "base_uri": "https://localhost:8080/",
          "height": 35
        },
        "id": "iX_C-l4Gt00l",
        "outputId": "8e011886-e8f8-4501-858c-87adc28a4c82"
      },
      "execution_count": null,
      "outputs": [
        {
          "output_type": "execute_result",
          "data": {
            "text/plain": [
              "'hithere'"
            ],
            "application/vnd.google.colaboratory.intrinsic+json": {
              "type": "string"
            }
          },
          "metadata": {},
          "execution_count": 20
        }
      ]
    },
    {
      "cell_type": "markdown",
      "source": [
        "reverse a string in Python"
      ],
      "metadata": {
        "id": "C1CqTy0Mss8m"
      }
    },
    {
      "cell_type": "code",
      "source": [
        "x=(\"world\"[::-1])\n",
        "print(x)"
      ],
      "metadata": {
        "colab": {
          "base_uri": "https://localhost:8080/"
        },
        "id": "N8FPTCiWvSR5",
        "outputId": "2ed695bc-eae0-4828-f75c-2144eb17c83c"
      },
      "execution_count": null,
      "outputs": [
        {
          "output_type": "stream",
          "name": "stdout",
          "text": [
            "dlrow\n"
          ]
        }
      ]
    },
    {
      "cell_type": "markdown",
      "source": [
        "check if a string is a palindrome in Python"
      ],
      "metadata": {
        "id": "ivBdkxoxwvw6"
      }
    },
    {
      "cell_type": "code",
      "source": [
        "print(x[0:]==x[::-1])"
      ],
      "metadata": {
        "colab": {
          "base_uri": "https://localhost:8080/"
        },
        "id": "DBF-uSz9wxLk",
        "outputId": "fc0a62e8-a164-4020-d0a4-f02d70b55ccc"
      },
      "execution_count": null,
      "outputs": [
        {
          "output_type": "stream",
          "name": "stdout",
          "text": [
            "False\n"
          ]
        }
      ]
    },
    {
      "cell_type": "markdown",
      "source": [
        "replace a substring in a string with another substring in Python"
      ],
      "metadata": {
        "id": "45iCGZg6xbCm"
      }
    },
    {
      "cell_type": "code",
      "source": [
        "y=\"are you ready\"\n",
        "print(y)\n",
        "z=y.replace('you','they')\n",
        "print(z)"
      ],
      "metadata": {
        "colab": {
          "base_uri": "https://localhost:8080/"
        },
        "id": "kokZYZL2xc2q",
        "outputId": "33831026-26c6-49c4-8e14-95d405339067"
      },
      "execution_count": null,
      "outputs": [
        {
          "output_type": "stream",
          "name": "stdout",
          "text": [
            "are you ready\n",
            "are they ready\n"
          ]
        }
      ]
    },
    {
      "cell_type": "markdown",
      "source": [
        "check if a string ends with a specific substring in Python"
      ],
      "metadata": {
        "id": "MKX9mwwkyMXw"
      }
    },
    {
      "cell_type": "code",
      "source": [
        "yy=y.endswith('y')\n",
        "print(yy)"
      ],
      "metadata": {
        "colab": {
          "base_uri": "https://localhost:8080/"
        },
        "id": "2Ha71MSGyZS2",
        "outputId": "d80c721b-6c89-487d-88fd-3b8e2fed7a28"
      },
      "execution_count": null,
      "outputs": [
        {
          "output_type": "stream",
          "name": "stdout",
          "text": [
            "True\n"
          ]
        }
      ]
    },
    {
      "cell_type": "markdown",
      "source": [
        "count the number of occurrences of a substring in a string in Python"
      ],
      "metadata": {
        "id": "Ghw6D1Wuy4Ai"
      }
    },
    {
      "cell_type": "code",
      "source": [
        "v=('wonderful colorful beautiful')\n",
        "u=v.count('wonder')\n",
        "print(u)"
      ],
      "metadata": {
        "colab": {
          "base_uri": "https://localhost:8080/"
        },
        "id": "ujUgv8hlzNr_",
        "outputId": "cee9b829-976a-452a-d242-5d46e61f6f95"
      },
      "execution_count": null,
      "outputs": [
        {
          "output_type": "stream",
          "name": "stdout",
          "text": [
            "1\n"
          ]
        }
      ]
    },
    {
      "cell_type": "markdown",
      "source": [
        "remove a specific character from a string in Python"
      ],
      "metadata": {
        "id": "rkVHR2yQzc0u"
      }
    },
    {
      "cell_type": "code",
      "source": [
        "q=('elephant')\n",
        "r=q.replace('e','')\n",
        "print(r)"
      ],
      "metadata": {
        "colab": {
          "base_uri": "https://localhost:8080/"
        },
        "id": "5JM2Re131-jh",
        "outputId": "442391fa-3051-41b9-9166-cf8e578d9e09"
      },
      "execution_count": null,
      "outputs": [
        {
          "output_type": "stream",
          "name": "stdout",
          "text": [
            "lphant\n"
          ]
        }
      ]
    },
    {
      "cell_type": "markdown",
      "source": [
        "check if a string is empty in Python"
      ],
      "metadata": {
        "id": "jv4f_TCj3H3T"
      }
    },
    {
      "cell_type": "code",
      "source": [
        "o=()\n",
        "print(not o)"
      ],
      "metadata": {
        "colab": {
          "base_uri": "https://localhost:8080/"
        },
        "id": "bOffsTcv3JsA",
        "outputId": "4c61e061-3988-41a8-a082-d69bcc4acd8e"
      },
      "execution_count": null,
      "outputs": [
        {
          "output_type": "stream",
          "name": "stdout",
          "text": [
            "True\n"
          ]
        }
      ]
    }
  ]
}